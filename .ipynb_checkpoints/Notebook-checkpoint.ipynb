{
 "cells": [
  {
   "cell_type": "code",
   "execution_count": 2,
   "metadata": {},
   "outputs": [],
   "source": [
    "import ArchGDAL"
   ]
  },
  {
   "cell_type": "code",
   "execution_count": 3,
   "metadata": {},
   "outputs": [
    {
     "data": {
      "text/plain": [
       "getelev (generic function with 1 method)"
      ]
     },
     "execution_count": 3,
     "metadata": {},
     "output_type": "execute_result"
    }
   ],
   "source": [
    "function geo2pixel(gt, x, y)\n",
    "\tInt64(round((x-gt[4])/gt[6])), Int64(round((y-gt[1])/gt[2]))\n",
    "end\n",
    "function getelev(x, y)\n",
    "\tArchGDAL.registerdrivers() do\n",
    "\t    ArchGDAL.read(\"srtm_21_05.tif\") do dataset\n",
    "\t        band = ArchGDAL.getband(dataset, 1)\n",
    "\t        geotransform = ArchGDAL.getgeotransform(dataset)\n",
    "\t        arr = ArchGDAL.read(band)\n",
    "\t        newcoords = geo2pixel(geotransform, x, y)\n",
    "\t        return arr[newcoords[2], newcoords[1]]\n",
    "\t    end\n",
    "\tend\n",
    "end"
   ]
  },
  {
   "cell_type": "code",
   "execution_count": 5,
   "metadata": {},
   "outputs": [
    {
     "name": "stdout",
     "output_type": "stream",
     "text": [
      "93"
     ]
    }
   ],
   "source": [
    "getelev(38.735375,-77.410316)"
   ]
  },
  {
   "cell_type": "code",
   "execution_count": 38,
   "metadata": {},
   "outputs": [],
   "source": [
    "using HTTP\n",
    "using JSON\n",
    "using BenchmarkTools"
   ]
  },
  {
   "cell_type": "code",
   "execution_count": null,
   "metadata": {},
   "outputs": [],
   "source": [
    "\n",
    "randomcoord = (40-rand()*5, -80-rand()*-5)\n",
    "print(randomcoord)\n",
    "@btime r = HTTP.request(\"GET\", string(\"https://maps.googleapis.com/maps/api/elevation/json?locations=\",string(randomcoord[1]),\",\",string(randomcoord[2])))\n",
    "r = \n",
    "Float(JSON.parse(String(r.body))[\"results\"][1][\"elevation\"])-getelev(randomcoord[1], randomcoord[2])"
   ]
  },
  {
   "cell_type": "code",
   "execution_count": 46,
   "metadata": {},
   "outputs": [
    {
     "data": {
      "text/plain": [
       "0.6598921179538282"
      ]
     },
     "execution_count": 46,
     "metadata": {},
     "output_type": "execute_result"
    }
   ],
   "source": []
  },
  {
   "cell_type": "code",
   "execution_count": null,
   "metadata": {},
   "outputs": [],
   "source": []
  }
 ],
 "metadata": {
  "kernelspec": {
   "display_name": "Julia 1.0.0",
   "language": "julia",
   "name": "julia-1.0"
  },
  "language_info": {
   "file_extension": ".jl",
   "mimetype": "application/julia",
   "name": "julia",
   "version": "1.0.0"
  }
 },
 "nbformat": 4,
 "nbformat_minor": 2
}
