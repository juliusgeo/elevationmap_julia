{
 "cells": [
  {
   "cell_type": "code",
   "execution_count": 1,
   "metadata": {},
   "outputs": [],
   "source": [
    "import ArchGDAL"
   ]
  },
  {
   "cell_type": "code",
   "execution_count": 2,
   "metadata": {},
   "outputs": [
    {
     "data": {
      "text/plain": [
       "getelev (generic function with 1 method)"
      ]
     },
     "execution_count": 2,
     "metadata": {},
     "output_type": "execute_result"
    }
   ],
   "source": [
    "function geo2pixel(gt, x, y)\n",
    "\tInt64(round((x-gt[4])/gt[6])), Int64(round((y-gt[1])/gt[2]))\n",
    "end\n",
    "function getelev(x, y)\n",
    "\tArchGDAL.registerdrivers() do\n",
    "\t    ArchGDAL.read(\"srtm_21_05.tif\") do dataset\n",
    "\t        band = ArchGDAL.getband(dataset, 1)\n",
    "\t        geotransform = ArchGDAL.getgeotransform(dataset)\n",
    "\t        arr = ArchGDAL.read(band)\n",
    "\t        newcoords = geo2pixel(geotransform, x, y)\n",
    "\t        return arr[newcoords[2], newcoords[1]]\n",
    "\t    end\n",
    "\tend\n",
    "end"
   ]
  },
  {
   "cell_type": "code",
   "execution_count": 3,
   "metadata": {},
   "outputs": [
    {
     "data": {
      "text/plain": [
       "93"
      ]
     },
     "execution_count": 3,
     "metadata": {},
     "output_type": "execute_result"
    }
   ],
   "source": [
    "getelev(38.735375,-77.410316)"
   ]
  },
  {
   "cell_type": "code",
   "execution_count": 4,
   "metadata": {},
   "outputs": [],
   "source": [
    "using HTTP\n",
    "using JSON\n",
    "using BenchmarkTools"
   ]
  },
  {
   "cell_type": "code",
   "execution_count": 9,
   "metadata": {},
   "outputs": [
    {
     "name": "stdout",
     "output_type": "stream",
     "text": [
      "(36.41356833170339, -77.56555114382891)https://maps.googleapis.com/maps/api/elevation/json?locations=36.41356833170339,-77.56555114382891"
     ]
    },
    {
     "ename": "HTTP.ExceptionRequest.StatusError",
     "evalue": "HTTP.ExceptionRequest.StatusError(403, HTTP.Messages.Response:\n\"\"\"\nHTTP/1.1 403 Forbidden\r\nContent-Length: 1103\r\nContent-Type: text/html; charset=UTF-8\r\nDate: Mon, 17 Sep 2018 18:42:21 GMT\r\nAlt-Svc: quic=\":443\"; ma=2592000; v=\"44,43,39,35\"\r\n\r\n<html><head><meta http-equiv=\"content-type\" content=\"text/html; charset=utf-8\"/><title>Sorry...</title><style> body { font-family: verdana, arial, sans-serif; background-color: #fff; color: #000; }</style></head><body><div><table><tr><td><b><font face=sans-serif size=10><font color=#4285f4>G</font><font color=#ea4335>o</font><font color=#fbbc05>o</font><font color=#4285f4>g</font><font color=#34a853>l</font><font color=#ea4335>e</font></font></b></td><td style=\"text-align: left; vertical-align: bottom; padding-bottom: 15px; width: 50%\"><div style=\"border-bottom: 1px solid #dfdfdf;\">Sorry...</div></td></tr></table></div><div style=\"margin-left: 4em;\"><h1>We're sorry...</h1><p>... but your computer or network may be sending automated queries. To protect our users, we can't process your request right now.</p></div><div style=\"margin-left: 4em;\">See <a href=\"https://support.google.com/websearch/answer/86640\">Google Help</a> for more information.<br/><br/></div><div style=\"text-align: cente\n⋮\n1103-byte body\n\"\"\")",
     "output_type": "error",
     "traceback": [
      "HTTP.ExceptionRequest.StatusError(403, HTTP.Messages.Response:\n\"\"\"\nHTTP/1.1 403 Forbidden\r\nContent-Length: 1103\r\nContent-Type: text/html; charset=UTF-8\r\nDate: Mon, 17 Sep 2018 18:42:21 GMT\r\nAlt-Svc: quic=\":443\"; ma=2592000; v=\"44,43,39,35\"\r\n\r\n<html><head><meta http-equiv=\"content-type\" content=\"text/html; charset=utf-8\"/><title>Sorry...</title><style> body { font-family: verdana, arial, sans-serif; background-color: #fff; color: #000; }</style></head><body><div><table><tr><td><b><font face=sans-serif size=10><font color=#4285f4>G</font><font color=#ea4335>o</font><font color=#fbbc05>o</font><font color=#4285f4>g</font><font color=#34a853>l</font><font color=#ea4335>e</font></font></b></td><td style=\"text-align: left; vertical-align: bottom; padding-bottom: 15px; width: 50%\"><div style=\"border-bottom: 1px solid #dfdfdf;\">Sorry...</div></td></tr></table></div><div style=\"margin-left: 4em;\"><h1>We're sorry...</h1><p>... but your computer or network may be sending automated queries. To protect our users, we can't process your request right now.</p></div><div style=\"margin-left: 4em;\">See <a href=\"https://support.google.com/websearch/answer/86640\">Google Help</a> for more information.<br/><br/></div><div style=\"text-align: cente\n⋮\n1103-byte body\n\"\"\")",
      "",
      "Stacktrace:",
      " [1] #request#1 at /Users/juliuspark/.julia/packages/HTTP/nUK4f/src/ExceptionRequest.jl:22 [inlined]",
      " [2] (::getfield(HTTP, Symbol(\"#kw##request\")))(::NamedTuple{(:iofunction,),Tuple{Nothing}}, ::typeof(HTTP.request), ::Type{HTTP.ExceptionRequest.ExceptionLayer{HTTP.ConnectionRequest.ConnectionPoolLayer{HTTP.StreamRequest.StreamLayer}}}, ::HTTP.URIs.URI, ::HTTP.Messages.Request, ::Array{UInt8,1}) at ./none:0",
      " [3] (::getfield(Base, Symbol(\"###44#45#46\")){ExponentialBackOff,getfield(HTTP.RetryRequest, Symbol(\"##2#3\")){Bool,HTTP.Messages.Request},typeof(HTTP.request)})(::Base.Iterators.Pairs{Symbol,Nothing,Tuple{Symbol},NamedTuple{(:iofunction,),Tuple{Nothing}}}, ::Function, ::Type, ::Vararg{Any,N} where N) at ./error.jl:216",
      " [4] ##44#47 at ./none:0 [inlined]",
      " [5] #request#1(::Int64, ::Bool, ::Base.Iterators.Pairs{Symbol,Nothing,Tuple{Symbol},NamedTuple{(:iofunction,),Tuple{Nothing}}}, ::Function, ::Type{HTTP.RetryRequest.RetryLayer{HTTP.ExceptionRequest.ExceptionLayer{HTTP.ConnectionRequest.ConnectionPoolLayer{HTTP.StreamRequest.StreamLayer}}}}, ::HTTP.URIs.URI, ::HTTP.Messages.Request, ::Array{UInt8,1}) at /Users/juliuspark/.julia/packages/HTTP/nUK4f/src/RetryRequest.jl:44",
      " [6] #request at ./none:0 [inlined]",
      " [7] #request#1(::VersionNumber, ::String, ::Nothing, ::Nothing, ::Base.Iterators.Pairs{Union{},Union{},Tuple{},NamedTuple{(),Tuple{}}}, ::Function, ::Type{HTTP.MessageRequest.MessageLayer{HTTP.RetryRequest.RetryLayer{HTTP.ExceptionRequest.ExceptionLayer{HTTP.ConnectionRequest.ConnectionPoolLayer{HTTP.StreamRequest.StreamLayer}}}}}, ::String, ::HTTP.URIs.URI, ::Array{Pair{SubString{String},SubString{String}},1}, ::Array{UInt8,1}) at /Users/juliuspark/.julia/packages/HTTP/nUK4f/src/MessageRequest.jl:45",
      " [8] request at /Users/juliuspark/.julia/packages/HTTP/nUK4f/src/MessageRequest.jl:28 [inlined]",
      " [9] #request#1(::Int64, ::Bool, ::Base.Iterators.Pairs{Union{},Union{},Tuple{},NamedTuple{(),Tuple{}}}, ::Function, ::Type{HTTP.RedirectRequest.RedirectLayer{HTTP.MessageRequest.MessageLayer{HTTP.RetryRequest.RetryLayer{HTTP.ExceptionRequest.ExceptionLayer{HTTP.ConnectionRequest.ConnectionPoolLayer{HTTP.StreamRequest.StreamLayer}}}}}}, ::String, ::HTTP.URIs.URI, ::Array{Pair{SubString{String},SubString{String}},1}, ::Array{UInt8,1}) at /Users/juliuspark/.julia/packages/HTTP/nUK4f/src/RedirectRequest.jl:24",
      " [10] request(::Type{HTTP.RedirectRequest.RedirectLayer{HTTP.MessageRequest.MessageLayer{HTTP.RetryRequest.RetryLayer{HTTP.ExceptionRequest.ExceptionLayer{HTTP.ConnectionRequest.ConnectionPoolLayer{HTTP.StreamRequest.StreamLayer}}}}}}, ::String, ::HTTP.URIs.URI, ::Array{Pair{SubString{String},SubString{String}},1}, ::Array{UInt8,1}) at /Users/juliuspark/.julia/packages/HTTP/nUK4f/src/RedirectRequest.jl:21",
      " [11] #request#3(::Base.Iterators.Pairs{Union{},Union{},Tuple{},NamedTuple{(),Tuple{}}}, ::Function, ::String, ::HTTP.URIs.URI, ::Array{Pair{SubString{String},SubString{String}},1}, ::Array{UInt8,1}) at /Users/juliuspark/.julia/packages/HTTP/nUK4f/src/HTTP.jl:289",
      " [12] #request#4 at /Users/juliuspark/.julia/packages/HTTP/nUK4f/src/HTTP.jl:289 [inlined]",
      " [13] request at /Users/juliuspark/.julia/packages/HTTP/nUK4f/src/HTTP.jl:299 [inlined] (repeats 2 times)",
      " [14] ##core#388() at /Users/juliuspark/.julia/packages/BenchmarkTools/dtwnm/src/execution.jl:293",
      " [15] ##sample#389(::BenchmarkTools.Parameters) at /Users/juliuspark/.julia/packages/BenchmarkTools/dtwnm/src/execution.jl:299",
      " [16] #_run#10(::Bool, ::String, ::Base.Iterators.Pairs{Symbol,Integer,NTuple{4,Symbol},NamedTuple{(:samples, :evals, :gctrial, :gcsample),Tuple{Int64,Int64,Bool,Bool}}}, ::Function, ::BenchmarkTools.Benchmark{Symbol(\"##benchmark#387\")}, ::BenchmarkTools.Parameters) at /Users/juliuspark/.julia/packages/BenchmarkTools/dtwnm/src/execution.jl:327",
      " [17] (::getfield(Base, Symbol(\"#inner#2\")){Base.Iterators.Pairs{Symbol,Integer,NTuple{5,Symbol},NamedTuple{(:verbose, :samples, :evals, :gctrial, :gcsample),Tuple{Bool,Int64,Int64,Bool,Bool}}},typeof(BenchmarkTools._run),Tuple{BenchmarkTools.Benchmark{Symbol(\"##benchmark#387\")},BenchmarkTools.Parameters}})() at ./none:0",
      " [18] #invokelatest#1 at ./essentials.jl:690 [inlined]",
      " [19] #invokelatest at ./none:0 [inlined]",
      " [20] #run_result#16 at /Users/juliuspark/.julia/packages/BenchmarkTools/dtwnm/src/execution.jl:32 [inlined]",
      " [21] #run_result at ./none:0 [inlined]",
      " [22] #run#18(::Base.Iterators.Pairs{Symbol,Integer,NTuple{5,Symbol},NamedTuple{(:verbose, :samples, :evals, :gctrial, :gcsample),Tuple{Bool,Int64,Int64,Bool,Bool}}}, ::Function, ::BenchmarkTools.Benchmark{Symbol(\"##benchmark#387\")}, ::BenchmarkTools.Parameters) at /Users/juliuspark/.julia/packages/BenchmarkTools/dtwnm/src/execution.jl:46",
      " [23] #run at ./none:0 [inlined] (repeats 2 times)",
      " [24] #warmup#21 at /Users/juliuspark/.julia/packages/BenchmarkTools/dtwnm/src/execution.jl:79 [inlined]",
      " [25] warmup(::BenchmarkTools.Benchmark{Symbol(\"##benchmark#387\")}) at /Users/juliuspark/.julia/packages/BenchmarkTools/dtwnm/src/execution.jl:79",
      " [26] top-level scope at /Users/juliuspark/.julia/packages/BenchmarkTools/dtwnm/src/execution.jl:387",
      " [27] top-level scope at In[9]:6"
     ]
    }
   ],
   "source": [
    "\n",
    "randomcoord = (40-rand()*5, -80-rand()*-5)\n",
    "print(randomcoord)\n",
    "rstring = string(\"https://maps.googleapis.com/maps/api/elevation/json?locations=\",string(randomcoord[1]),\",\",string(randomcoord[2]))\n",
    "print(rstring)\n",
    "@btime r = HTTP.request(\"GET\", rstring)\n",
    "@btime g_val = Float(JSON.parse(String(r.body))[\"results\"][1][\"elevation\"])\n",
    "@btime m_val = getelev(randomcoord[1], randomcoord[2])\n"
   ]
  },
  {
   "cell_type": "code",
   "execution_count": 46,
   "metadata": {},
   "outputs": [
    {
     "data": {
      "text/plain": [
       "0.6598921179538282"
      ]
     },
     "execution_count": 46,
     "metadata": {},
     "output_type": "execute_result"
    }
   ],
   "source": []
  },
  {
   "cell_type": "code",
   "execution_count": null,
   "metadata": {},
   "outputs": [],
   "source": []
  }
 ],
 "metadata": {
  "kernelspec": {
   "display_name": "Julia 1.0.0",
   "language": "julia",
   "name": "julia-1.0"
  },
  "language_info": {
   "file_extension": ".jl",
   "mimetype": "application/julia",
   "name": "julia",
   "version": "1.0.0"
  }
 },
 "nbformat": 4,
 "nbformat_minor": 2
}
